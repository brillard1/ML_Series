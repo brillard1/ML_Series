{
  "nbformat": 4,
  "nbformat_minor": 0,
  "metadata": {
    "colab": {
      "name": "Sebastian_DTC.ipynb",
      "provenance": [],
      "collapsed_sections": [
        "CjU8pdLxL4dg",
        "xnfHge6wegOF",
        "1dFaZBi8kzDS",
        "A-PBJZ4Orxsp",
        "6kifNFCJIQ93"
      ]
    },
    "kernelspec": {
      "name": "python3",
      "display_name": "Python 3"
    },
    "language_info": {
      "name": "python"
    }
  },
  "cells": [
    {
      "cell_type": "code",
      "execution_count": 25,
      "metadata": {
        "colab": {
          "base_uri": "https://localhost:8080/",
          "height": 423
        },
        "id": "5_ew6XpPH9-W",
        "outputId": "0c864b0d-37d7-40f9-e65c-848dba33dc23"
      },
      "outputs": [
        {
          "output_type": "execute_result",
          "data": {
            "text/html": [
              "\n",
              "  <div id=\"df-aa71e536-0c16-467a-ba11-a167c1d95be7\">\n",
              "    <div class=\"colab-df-container\">\n",
              "      <div>\n",
              "<style scoped>\n",
              "    .dataframe tbody tr th:only-of-type {\n",
              "        vertical-align: middle;\n",
              "    }\n",
              "\n",
              "    .dataframe tbody tr th {\n",
              "        vertical-align: top;\n",
              "    }\n",
              "\n",
              "    .dataframe thead th {\n",
              "        text-align: right;\n",
              "    }\n",
              "</style>\n",
              "<table border=\"1\" class=\"dataframe\">\n",
              "  <thead>\n",
              "    <tr style=\"text-align: right;\">\n",
              "      <th></th>\n",
              "      <th>island</th>\n",
              "      <th>bill_length_mm</th>\n",
              "      <th>bill_depth_mm</th>\n",
              "      <th>flipper_length_mm</th>\n",
              "      <th>body_mass_g</th>\n",
              "      <th>sex</th>\n",
              "      <th>year</th>\n",
              "      <th>species</th>\n",
              "    </tr>\n",
              "  </thead>\n",
              "  <tbody>\n",
              "    <tr>\n",
              "      <th>0</th>\n",
              "      <td>Torgersen</td>\n",
              "      <td>39.1</td>\n",
              "      <td>18.7</td>\n",
              "      <td>181.0</td>\n",
              "      <td>3750.0</td>\n",
              "      <td>male</td>\n",
              "      <td>2007</td>\n",
              "      <td>Adelie</td>\n",
              "    </tr>\n",
              "    <tr>\n",
              "      <th>1</th>\n",
              "      <td>Torgersen</td>\n",
              "      <td>39.5</td>\n",
              "      <td>17.4</td>\n",
              "      <td>186.0</td>\n",
              "      <td>3800.0</td>\n",
              "      <td>female</td>\n",
              "      <td>2007</td>\n",
              "      <td>Adelie</td>\n",
              "    </tr>\n",
              "    <tr>\n",
              "      <th>2</th>\n",
              "      <td>Torgersen</td>\n",
              "      <td>40.3</td>\n",
              "      <td>18.0</td>\n",
              "      <td>195.0</td>\n",
              "      <td>3250.0</td>\n",
              "      <td>female</td>\n",
              "      <td>2007</td>\n",
              "      <td>Adelie</td>\n",
              "    </tr>\n",
              "    <tr>\n",
              "      <th>4</th>\n",
              "      <td>Torgersen</td>\n",
              "      <td>36.7</td>\n",
              "      <td>19.3</td>\n",
              "      <td>193.0</td>\n",
              "      <td>3450.0</td>\n",
              "      <td>female</td>\n",
              "      <td>2007</td>\n",
              "      <td>Adelie</td>\n",
              "    </tr>\n",
              "    <tr>\n",
              "      <th>5</th>\n",
              "      <td>Torgersen</td>\n",
              "      <td>39.3</td>\n",
              "      <td>20.6</td>\n",
              "      <td>190.0</td>\n",
              "      <td>3650.0</td>\n",
              "      <td>male</td>\n",
              "      <td>2007</td>\n",
              "      <td>Adelie</td>\n",
              "    </tr>\n",
              "    <tr>\n",
              "      <th>...</th>\n",
              "      <td>...</td>\n",
              "      <td>...</td>\n",
              "      <td>...</td>\n",
              "      <td>...</td>\n",
              "      <td>...</td>\n",
              "      <td>...</td>\n",
              "      <td>...</td>\n",
              "      <td>...</td>\n",
              "    </tr>\n",
              "    <tr>\n",
              "      <th>339</th>\n",
              "      <td>Dream</td>\n",
              "      <td>55.8</td>\n",
              "      <td>19.8</td>\n",
              "      <td>207.0</td>\n",
              "      <td>4000.0</td>\n",
              "      <td>male</td>\n",
              "      <td>2009</td>\n",
              "      <td>Chinstrap</td>\n",
              "    </tr>\n",
              "    <tr>\n",
              "      <th>340</th>\n",
              "      <td>Dream</td>\n",
              "      <td>43.5</td>\n",
              "      <td>18.1</td>\n",
              "      <td>202.0</td>\n",
              "      <td>3400.0</td>\n",
              "      <td>female</td>\n",
              "      <td>2009</td>\n",
              "      <td>Chinstrap</td>\n",
              "    </tr>\n",
              "    <tr>\n",
              "      <th>341</th>\n",
              "      <td>Dream</td>\n",
              "      <td>49.6</td>\n",
              "      <td>18.2</td>\n",
              "      <td>193.0</td>\n",
              "      <td>3775.0</td>\n",
              "      <td>male</td>\n",
              "      <td>2009</td>\n",
              "      <td>Chinstrap</td>\n",
              "    </tr>\n",
              "    <tr>\n",
              "      <th>342</th>\n",
              "      <td>Dream</td>\n",
              "      <td>50.8</td>\n",
              "      <td>19.0</td>\n",
              "      <td>210.0</td>\n",
              "      <td>4100.0</td>\n",
              "      <td>male</td>\n",
              "      <td>2009</td>\n",
              "      <td>Chinstrap</td>\n",
              "    </tr>\n",
              "    <tr>\n",
              "      <th>343</th>\n",
              "      <td>Dream</td>\n",
              "      <td>50.2</td>\n",
              "      <td>18.7</td>\n",
              "      <td>198.0</td>\n",
              "      <td>3775.0</td>\n",
              "      <td>female</td>\n",
              "      <td>2009</td>\n",
              "      <td>Chinstrap</td>\n",
              "    </tr>\n",
              "  </tbody>\n",
              "</table>\n",
              "<p>333 rows × 8 columns</p>\n",
              "</div>\n",
              "      <button class=\"colab-df-convert\" onclick=\"convertToInteractive('df-aa71e536-0c16-467a-ba11-a167c1d95be7')\"\n",
              "              title=\"Convert this dataframe to an interactive table.\"\n",
              "              style=\"display:none;\">\n",
              "        \n",
              "  <svg xmlns=\"http://www.w3.org/2000/svg\" height=\"24px\"viewBox=\"0 0 24 24\"\n",
              "       width=\"24px\">\n",
              "    <path d=\"M0 0h24v24H0V0z\" fill=\"none\"/>\n",
              "    <path d=\"M18.56 5.44l.94 2.06.94-2.06 2.06-.94-2.06-.94-.94-2.06-.94 2.06-2.06.94zm-11 1L8.5 8.5l.94-2.06 2.06-.94-2.06-.94L8.5 2.5l-.94 2.06-2.06.94zm10 10l.94 2.06.94-2.06 2.06-.94-2.06-.94-.94-2.06-.94 2.06-2.06.94z\"/><path d=\"M17.41 7.96l-1.37-1.37c-.4-.4-.92-.59-1.43-.59-.52 0-1.04.2-1.43.59L10.3 9.45l-7.72 7.72c-.78.78-.78 2.05 0 2.83L4 21.41c.39.39.9.59 1.41.59.51 0 1.02-.2 1.41-.59l7.78-7.78 2.81-2.81c.8-.78.8-2.07 0-2.86zM5.41 20L4 18.59l7.72-7.72 1.47 1.35L5.41 20z\"/>\n",
              "  </svg>\n",
              "      </button>\n",
              "      \n",
              "  <style>\n",
              "    .colab-df-container {\n",
              "      display:flex;\n",
              "      flex-wrap:wrap;\n",
              "      gap: 12px;\n",
              "    }\n",
              "\n",
              "    .colab-df-convert {\n",
              "      background-color: #E8F0FE;\n",
              "      border: none;\n",
              "      border-radius: 50%;\n",
              "      cursor: pointer;\n",
              "      display: none;\n",
              "      fill: #1967D2;\n",
              "      height: 32px;\n",
              "      padding: 0 0 0 0;\n",
              "      width: 32px;\n",
              "    }\n",
              "\n",
              "    .colab-df-convert:hover {\n",
              "      background-color: #E2EBFA;\n",
              "      box-shadow: 0px 1px 2px rgba(60, 64, 67, 0.3), 0px 1px 3px 1px rgba(60, 64, 67, 0.15);\n",
              "      fill: #174EA6;\n",
              "    }\n",
              "\n",
              "    [theme=dark] .colab-df-convert {\n",
              "      background-color: #3B4455;\n",
              "      fill: #D2E3FC;\n",
              "    }\n",
              "\n",
              "    [theme=dark] .colab-df-convert:hover {\n",
              "      background-color: #434B5C;\n",
              "      box-shadow: 0px 1px 3px 1px rgba(0, 0, 0, 0.15);\n",
              "      filter: drop-shadow(0px 1px 2px rgba(0, 0, 0, 0.3));\n",
              "      fill: #FFFFFF;\n",
              "    }\n",
              "  </style>\n",
              "\n",
              "      <script>\n",
              "        const buttonEl =\n",
              "          document.querySelector('#df-aa71e536-0c16-467a-ba11-a167c1d95be7 button.colab-df-convert');\n",
              "        buttonEl.style.display =\n",
              "          google.colab.kernel.accessAllowed ? 'block' : 'none';\n",
              "\n",
              "        async function convertToInteractive(key) {\n",
              "          const element = document.querySelector('#df-aa71e536-0c16-467a-ba11-a167c1d95be7');\n",
              "          const dataTable =\n",
              "            await google.colab.kernel.invokeFunction('convertToInteractive',\n",
              "                                                     [key], {});\n",
              "          if (!dataTable) return;\n",
              "\n",
              "          const docLinkHtml = 'Like what you see? Visit the ' +\n",
              "            '<a target=\"_blank\" href=https://colab.research.google.com/notebooks/data_table.ipynb>data table notebook</a>'\n",
              "            + ' to learn more about interactive tables.';\n",
              "          element.innerHTML = '';\n",
              "          dataTable['output_type'] = 'display_data';\n",
              "          await google.colab.output.renderOutput(dataTable, element);\n",
              "          const docLink = document.createElement('div');\n",
              "          docLink.innerHTML = docLinkHtml;\n",
              "          element.appendChild(docLink);\n",
              "        }\n",
              "      </script>\n",
              "    </div>\n",
              "  </div>\n",
              "  "
            ],
            "text/plain": [
              "        island  bill_length_mm  bill_depth_mm  ...     sex  year    species\n",
              "0    Torgersen            39.1           18.7  ...    male  2007     Adelie\n",
              "1    Torgersen            39.5           17.4  ...  female  2007     Adelie\n",
              "2    Torgersen            40.3           18.0  ...  female  2007     Adelie\n",
              "4    Torgersen            36.7           19.3  ...  female  2007     Adelie\n",
              "5    Torgersen            39.3           20.6  ...    male  2007     Adelie\n",
              "..         ...             ...            ...  ...     ...   ...        ...\n",
              "339      Dream            55.8           19.8  ...    male  2009  Chinstrap\n",
              "340      Dream            43.5           18.1  ...  female  2009  Chinstrap\n",
              "341      Dream            49.6           18.2  ...    male  2009  Chinstrap\n",
              "342      Dream            50.8           19.0  ...    male  2009  Chinstrap\n",
              "343      Dream            50.2           18.7  ...  female  2009  Chinstrap\n",
              "\n",
              "[333 rows x 8 columns]"
            ]
          },
          "metadata": {},
          "execution_count": 25
        }
      ],
      "source": [
        "import pandas as pd\n",
        "import numpy as np\n",
        "from sklearn.model_selection import train_test_split as tts\n",
        "\n",
        "df = pd.read_csv('penguins.csv')\n",
        "df = df.dropna()\n",
        "\n",
        "Y = df['species']\n",
        "X = df.drop(['species'], axis='columns')\n",
        "X['species'] = Y\n",
        "df = X\n",
        "x_train, x_test, _, _ = tts(X,Y,test_size=0.2,shuffle = True)\n",
        "# dummies = pd.get_dummies(df.island)\n",
        "# dummies = pd.concat([dummies, pd.get_dummies(df.sex), pd.get_dummies(df.year)], axis='columns')\n",
        "# merge = pd.concat([df,dummies], axis='columns')\n",
        "# X = merge.drop(['island','sex','year',2007,'species'], axis='columns')\n",
        "\n",
        "X"
      ]
    },
    {
      "cell_type": "markdown",
      "source": [
        "###Purity Value, Classification"
      ],
      "metadata": {
        "id": "aw3DSp56IAy9"
      }
    },
    {
      "cell_type": "code",
      "source": [
        "def check_purity(data):\n",
        "    \n",
        "    lbl = data[:, -1]\n",
        "    unique_classes = np.unique(lbl)\n",
        "\n",
        "    if len(unique_classes) == 1:\n",
        "        return True\n",
        "    else:\n",
        "        return False\n",
        "\n",
        "# classify continuous datas\n",
        "def classify_data(data):\n",
        "    \n",
        "    label_column = data[:, -1]\n",
        "    unique_classes, counts_unique_classes = np.unique(label_column, return_counts=True)\n",
        "\n",
        "    index = counts_unique_classes.argmax()\n",
        "    classification = unique_classes[index]\n",
        "\n",
        "    return classification\n",
        "\n",
        "classify_data(x_train[x_train.bill_length_mm > 50].values)\n"
      ],
      "metadata": {
        "colab": {
          "base_uri": "https://localhost:8080/",
          "height": 35
        },
        "id": "Xsg021qfIADb",
        "outputId": "9f377be4-81ef-4531-ff51-370323ffd1d6"
      },
      "execution_count": 26,
      "outputs": [
        {
          "output_type": "execute_result",
          "data": {
            "application/vnd.google.colaboratory.intrinsic+json": {
              "type": "string"
            },
            "text/plain": [
              "'Chinstrap'"
            ]
          },
          "metadata": {},
          "execution_count": 26
        }
      ]
    },
    {
      "cell_type": "markdown",
      "source": [
        "###Potential Splits"
      ],
      "metadata": {
        "id": "CjU8pdLxL4dg"
      }
    },
    {
      "cell_type": "code",
      "source": [
        "def get_potential_splits(data):\n",
        "    \n",
        "    potential_splits = {}\n",
        "    n_columns = data.shape[1]\n",
        "    for column_index in range(n_columns - 1):          # excluding the last column which is the species\n",
        "        values = data[:, column_index]\n",
        "        unique_values = np.unique(values)\n",
        "        \n",
        "        potential_splits[column_index] = unique_values\n",
        "    \n",
        "    return potential_splits\n",
        "\n",
        "\n",
        "potential_splits = get_potential_splits(x_train.values)\n",
        "potential_splits"
      ],
      "metadata": {
        "colab": {
          "base_uri": "https://localhost:8080/"
        },
        "id": "Ey-yoUx6L3rd",
        "outputId": "e3a5c7a1-88c0-4a71-efcf-bf75ec63c993"
      },
      "execution_count": 27,
      "outputs": [
        {
          "output_type": "execute_result",
          "data": {
            "text/plain": [
              "{0: array(['Biscoe', 'Dream', 'Torgersen'], dtype=object),\n",
              " 1: array([32.1, 33.1, 33.5, 34.0, 34.5, 34.6, 35.1, 35.2, 35.3, 35.5, 35.6,\n",
              "        35.7, 35.9, 36.0, 36.2, 36.3, 36.4, 36.5, 36.7, 36.8, 36.9, 37.0,\n",
              "        37.2, 37.3, 37.5, 37.6, 37.8, 37.9, 38.1, 38.2, 38.3, 38.5, 38.6,\n",
              "        38.7, 38.8, 38.9, 39.0, 39.1, 39.2, 39.3, 39.5, 39.6, 39.7, 40.1,\n",
              "        40.2, 40.3, 40.6, 40.7, 40.8, 40.9, 41.0, 41.1, 41.3, 41.4, 41.5,\n",
              "        41.6, 41.7, 41.8, 42.0, 42.1, 42.2, 42.3, 42.5, 42.6, 42.7, 42.8,\n",
              "        42.9, 43.2, 43.3, 43.4, 43.5, 43.6, 43.8, 44.0, 44.1, 44.4, 44.5,\n",
              "        44.9, 45.0, 45.1, 45.2, 45.3, 45.4, 45.5, 45.6, 45.7, 45.8, 46.0,\n",
              "        46.1, 46.2, 46.3, 46.4, 46.5, 46.6, 46.7, 46.8, 46.9, 47.0, 47.2,\n",
              "        47.3, 47.4, 47.5, 47.6, 47.7, 47.8, 48.1, 48.2, 48.4, 48.5, 48.6,\n",
              "        48.7, 48.8, 49.0, 49.1, 49.2, 49.3, 49.4, 49.5, 49.6, 49.7, 49.8,\n",
              "        50.0, 50.1, 50.2, 50.3, 50.4, 50.5, 50.6, 50.7, 50.8, 51.1, 51.3,\n",
              "        51.4, 51.5, 51.7, 51.9, 52.0, 52.2, 52.5, 52.7, 53.4, 54.2, 54.3,\n",
              "        55.1, 55.8, 55.9, 58.0, 59.6], dtype=object),\n",
              " 2: array([13.1, 13.2, 13.4, 13.5, 13.6, 13.7, 13.8, 13.9, 14.0, 14.1, 14.2,\n",
              "        14.3, 14.4, 14.5, 14.6, 14.7, 14.8, 14.9, 15.0, 15.1, 15.2, 15.3,\n",
              "        15.4, 15.5, 15.6, 15.7, 15.8, 15.9, 16.0, 16.1, 16.2, 16.3, 16.4,\n",
              "        16.5, 16.6, 16.7, 16.8, 16.9, 17.0, 17.1, 17.2, 17.3, 17.4, 17.5,\n",
              "        17.6, 17.7, 17.8, 17.9, 18.0, 18.1, 18.2, 18.3, 18.4, 18.5, 18.6,\n",
              "        18.7, 18.8, 18.9, 19.0, 19.1, 19.2, 19.3, 19.4, 19.5, 19.6, 19.7,\n",
              "        19.8, 19.9, 20.0, 20.1, 20.3, 20.5, 20.6, 20.7, 20.8, 21.1, 21.2],\n",
              "       dtype=object),\n",
              " 3: array([172.0, 174.0, 178.0, 180.0, 181.0, 182.0, 183.0, 184.0, 185.0,\n",
              "        186.0, 187.0, 188.0, 189.0, 190.0, 191.0, 192.0, 193.0, 194.0,\n",
              "        195.0, 196.0, 197.0, 198.0, 199.0, 200.0, 201.0, 202.0, 203.0,\n",
              "        205.0, 206.0, 207.0, 208.0, 209.0, 210.0, 211.0, 212.0, 213.0,\n",
              "        214.0, 215.0, 216.0, 217.0, 218.0, 219.0, 220.0, 221.0, 222.0,\n",
              "        223.0, 224.0, 225.0, 226.0, 228.0, 229.0, 230.0, 231.0],\n",
              "       dtype=object),\n",
              " 4: array([2850.0, 2900.0, 2925.0, 3000.0, 3050.0, 3100.0, 3150.0, 3175.0,\n",
              "        3200.0, 3250.0, 3275.0, 3300.0, 3325.0, 3350.0, 3400.0, 3425.0,\n",
              "        3450.0, 3475.0, 3500.0, 3525.0, 3550.0, 3600.0, 3625.0, 3650.0,\n",
              "        3675.0, 3700.0, 3725.0, 3750.0, 3775.0, 3800.0, 3825.0, 3850.0,\n",
              "        3875.0, 3900.0, 3950.0, 3975.0, 4000.0, 4050.0, 4075.0, 4100.0,\n",
              "        4150.0, 4200.0, 4250.0, 4300.0, 4350.0, 4375.0, 4400.0, 4450.0,\n",
              "        4475.0, 4500.0, 4600.0, 4625.0, 4650.0, 4675.0, 4700.0, 4725.0,\n",
              "        4750.0, 4800.0, 4850.0, 4875.0, 4900.0, 4925.0, 4950.0, 4975.0,\n",
              "        5000.0, 5050.0, 5100.0, 5200.0, 5250.0, 5300.0, 5350.0, 5400.0,\n",
              "        5450.0, 5500.0, 5550.0, 5600.0, 5650.0, 5700.0, 5750.0, 5800.0,\n",
              "        5850.0, 5950.0, 6000.0, 6050.0, 6300.0], dtype=object),\n",
              " 5: array(['female', 'male'], dtype=object),\n",
              " 6: array([2007, 2008, 2009], dtype=object)}"
            ]
          },
          "metadata": {},
          "execution_count": 27
        }
      ]
    },
    {
      "cell_type": "markdown",
      "source": [
        "###Graphical Analysis of all the possible best splits in the data"
      ],
      "metadata": {
        "id": "xnfHge6wegOF"
      }
    },
    {
      "cell_type": "code",
      "source": [
        "import seaborn as sns\n",
        "import matplotlib.pyplot as plt\n",
        "sns.lmplot(data=x_train, x=\"bill_length_mm\", y=\"body_mass_g\", hue = \"species\", fit_reg=False)\n",
        "# plt.hlines(y=potential_splits[5], xmin=30, xmax=60)\n",
        "plt.vlines(x=potential_splits[1], ymin=1500, ymax=7000)"
      ],
      "metadata": {
        "colab": {
          "base_uri": "https://localhost:8080/",
          "height": 0
        },
        "id": "zY7R861FNof3",
        "outputId": "50c4cbae-66b5-43b9-8c0b-b8b55d235565"
      },
      "execution_count": 28,
      "outputs": [
        {
          "output_type": "execute_result",
          "data": {
            "text/plain": [
              "<matplotlib.collections.LineCollection at 0x7efd63e221d0>"
            ]
          },
          "metadata": {},
          "execution_count": 28
        },
        {
          "output_type": "display_data",
          "data": {
            "image/png": "[encoded data removed]",
            "text/plain": [
              "<Figure size 444.125x360 with 1 Axes>"
            ]
          },
          "metadata": {
            "needs_background": "light"
          }
        }
      ]
    },
    {
      "cell_type": "code",
      "source": [
        "sns.lmplot(data=x_train, x=\"bill_length_mm\", y=\"body_mass_g\", hue = \"species\", fit_reg=False)\n",
        "plt.hlines(y=potential_splits[4], xmin=30, xmax=60)\n",
        "# plt.vlines(x=potential_splits[2], ymin=1500, ymax=7000)"
      ],
      "metadata": {
        "colab": {
          "base_uri": "https://localhost:8080/",
          "height": 0
        },
        "id": "5CGqoEt2ko4c",
        "outputId": "209c7c20-2f5a-441a-9c77-028b9f1b7703"
      },
      "execution_count": 29,
      "outputs": [
        {
          "output_type": "execute_result",
          "data": {
            "text/plain": [
              "<matplotlib.collections.LineCollection at 0x7efd63d5a810>"
            ]
          },
          "metadata": {},
          "execution_count": 29
        },
        {
          "output_type": "display_data",
          "data": {
            "image/png": "[encoded data removed]",
            "text/plain": [
              "<Figure size 444.125x360 with 1 Axes>"
            ]
          },
          "metadata": {
            "needs_background": "light"
          }
        }
      ]
    },
    {
      "cell_type": "code",
      "source": [
        "sns.lmplot(data=x_train, x=\"bill_length_mm\", y=\"bill_depth_mm\", hue = \"species\", fit_reg=False)\n",
        "plt.hlines(y=potential_splits[2], xmin=0, xmax=60)"
      ],
      "metadata": {
        "colab": {
          "base_uri": "https://localhost:8080/",
          "height": 0
        },
        "id": "x0tWkCxngz7H",
        "outputId": "39369414-6d08-4ec3-c12c-e576254c650f"
      },
      "execution_count": 30,
      "outputs": [
        {
          "output_type": "execute_result",
          "data": {
            "text/plain": [
              "<matplotlib.collections.LineCollection at 0x7efd63c39210>"
            ]
          },
          "metadata": {},
          "execution_count": 30
        },
        {
          "output_type": "display_data",
          "data": {
            "image/png": "[encoded data removed]",
            "text/plain": [
              "<Figure size 444.125x360 with 1 Axes>"
            ]
          },
          "metadata": {
            "needs_background": "light"
          }
        }
      ]
    },
    {
      "cell_type": "code",
      "source": [
        "sns.lmplot(data=x_train, x=\"flipper_length_mm\", y=\"bill_depth_mm\", hue = \"species\", fit_reg=False)\n",
        "plt.vlines(x=potential_splits[3], ymin=12, ymax=22)"
      ],
      "metadata": {
        "colab": {
          "base_uri": "https://localhost:8080/",
          "height": 0
        },
        "id": "lXOncxoEsj_m",
        "outputId": "da59bdba-a4eb-47ca-c8a2-5be38d78b8d5"
      },
      "execution_count": 31,
      "outputs": [
        {
          "output_type": "execute_result",
          "data": {
            "text/plain": [
              "<matplotlib.collections.LineCollection at 0x7efd63b81f50>"
            ]
          },
          "metadata": {},
          "execution_count": 31
        },
        {
          "output_type": "display_data",
          "data": {
            "image/png": "[encoded data removed]",
            "text/plain": [
              "<Figure size 444.125x360 with 1 Axes>"
            ]
          },
          "metadata": {
            "needs_background": "light"
          }
        }
      ]
    },
    {
      "cell_type": "markdown",
      "source": [
        "###Split Data"
      ],
      "metadata": {
        "id": "1dFaZBi8kzDS"
      }
    },
    {
      "cell_type": "code",
      "source": [
        "def split_data(data, split_column, split_value):\n",
        "    \n",
        "    split_column_values = data[:, split_column]\n",
        "\n",
        "    type_of_feature = FEATURE_TYPES[split_column]\n",
        "    if type_of_feature == \"continuous\":\n",
        "        data_below = data[split_column_values <= split_value]\n",
        "        data_above = data[split_column_values >  split_value]\n",
        "    \n",
        "    # feature is categorical   \n",
        "    else:\n",
        "        data_below = data[split_column_values == split_value]\n",
        "        data_above = data[split_column_values != split_value]\n",
        "    \n",
        "    return data_below, data_above\n"
      ],
      "metadata": {
        "id": "BFKC6dy3lFTD"
      },
      "execution_count": 32,
      "outputs": []
    },
    {
      "cell_type": "markdown",
      "source": [
        "###Entropy and Information Gain"
      ],
      "metadata": {
        "id": "A-PBJZ4Orxsp"
      }
    },
    {
      "cell_type": "code",
      "source": [
        "def calculate_entropy(data):\n",
        "    \n",
        "    label_column = data[:, -1]\n",
        "    _, counts = np.unique(label_column, return_counts=True)\n",
        "\n",
        "    probabilities = counts / counts.sum()\n",
        "    entropy = sum(probabilities * -np.log2(probabilities))\n",
        "     \n",
        "    return entropy\n",
        "\n",
        "def calculate_overall_entropy(data_below, data_above):\n",
        "    \n",
        "    n = len(data_below) + len(data_above)\n",
        "    p_data_below = len(data_below) / n\n",
        "    p_data_above = len(data_above) / n\n",
        "\n",
        "    overall_entropy =  (p_data_below * calculate_entropy(data_below) + p_data_above * calculate_entropy(data_above))\n",
        "\n",
        "    return overall_entropy\n",
        "\n",
        "def determine_best_split(data, potential_splits):\n",
        "    \n",
        "    overall_entropy = -99999\n",
        "    Total_Entropy = calculate_entropy(data)\n",
        "    for column_index in potential_splits:\n",
        "        for value in potential_splits[column_index]:\n",
        "            data_below, data_above = split_data(data, split_column=column_index, split_value=value)\n",
        "            current_overall_entropy = calculate_overall_entropy(data_below, data_above)\n",
        "\n",
        "            information_gain = Total_Entropy - current_overall_entropy\n",
        "            if information_gain > overall_entropy:\n",
        "                overall_entropy = information_gain\n",
        "                best_split_column = column_index\n",
        "                best_split_value = value\n",
        "    \n",
        "    return best_split_column, best_split_value\n"
      ],
      "metadata": {
        "id": "axPSGbQYr0Iy"
      },
      "execution_count": 33,
      "outputs": []
    },
    {
      "cell_type": "code",
      "source": [
        "determine_best_split(x_train.values,potential_splits)"
      ],
      "metadata": {
        "colab": {
          "base_uri": "https://localhost:8080/"
        },
        "id": "hO9jkEetjPF2",
        "outputId": "57a3b708-8da8-431d-e34f-ff9d60fe55c4"
      },
      "execution_count": 34,
      "outputs": [
        {
          "output_type": "execute_result",
          "data": {
            "text/plain": [
              "(3, 207.0)"
            ]
          },
          "metadata": {},
          "execution_count": 34
        }
      ]
    },
    {
      "cell_type": "markdown",
      "source": [
        "###Type of features"
      ],
      "metadata": {
        "id": "6kifNFCJIQ93"
      }
    },
    {
      "cell_type": "code",
      "source": [
        "def determine_type_of_feature(df):\n",
        "    \n",
        "    feature_types = []\n",
        "    n_unique_values_treshold = 14\n",
        "    for feature in df.columns:\n",
        "        if feature != \"species\":\n",
        "            unique_values = df[feature].unique()\n",
        "            example_value = unique_values[0]\n",
        "\n",
        "            if (isinstance(example_value, str)) or (len(unique_values) <= n_unique_values_treshold):\n",
        "                feature_types.append(\"categorical\")\n",
        "            else:\n",
        "                feature_types.append(\"continuous\")\n",
        "    \n",
        "    return feature_types"
      ],
      "metadata": {
        "id": "DDqVKRBdIRSp"
      },
      "execution_count": 35,
      "outputs": []
    },
    {
      "cell_type": "markdown",
      "source": [
        "###Decision Tree"
      ],
      "metadata": {
        "id": "N-QyW-XntcOY"
      }
    },
    {
      "cell_type": "code",
      "source": [
        "def decision_tree_algorithm(df, counter=0, min_samples=2, max_depth=5):\n",
        "    \n",
        "    # data preparations\n",
        "    if counter == 0:\n",
        "        global COLUMN_HEADERS, FEATURE_TYPES\n",
        "        COLUMN_HEADERS = df.columns\n",
        "        FEATURE_TYPES = determine_type_of_feature(df)\n",
        "        data = df.values\n",
        "    else:\n",
        "        data = df           \n",
        "    \n",
        "    \n",
        "    # base cases\n",
        "    if (check_purity(data)) or (len(data) < min_samples) or (counter == max_depth):\n",
        "        classification = classify_data(data)\n",
        "        \n",
        "        return classification\n",
        "\n",
        "    \n",
        "    # recursive part\n",
        "    else:    \n",
        "        counter += 1\n",
        "\n",
        "        # helper functions \n",
        "        potential_splits = get_potential_splits(data)\n",
        "        split_column, split_value = determine_best_split(data, potential_splits)\n",
        "        data_below, data_above = split_data(data, split_column, split_value)\n",
        "        \n",
        "        # check for empty data\n",
        "        if len(data_below) == 0 or len(data_above) == 0:\n",
        "            classification = classify_data(data)\n",
        "            return classification\n",
        "        \n",
        "        # determine question\n",
        "        feature_name = COLUMN_HEADERS[split_column]\n",
        "        type_of_feature = FEATURE_TYPES[split_column]\n",
        "        if type_of_feature == \"continuous\":\n",
        "            question = \"{} <= {}\".format(feature_name, split_value)\n",
        "            \n",
        "        # feature is categorical\n",
        "        else:\n",
        "            question = \"{} = {}\".format(feature_name, split_value)\n",
        "        \n",
        "        # instantiate sub-tree\n",
        "        sub_tree = {question: []}\n",
        "        \n",
        "        # find answers\n",
        "        yes_answer = decision_tree_algorithm(data_below, counter, min_samples, max_depth)\n",
        "        no_answer = decision_tree_algorithm(data_above, counter, min_samples, max_depth)\n",
        "        \n",
        "        # If the answers are the same, then there is no point in asking the qestion.\n",
        "        # This could happen when the data is classified even though it is not pure\n",
        "        # yet (min_samples or max_depth base case).\n",
        "        if yes_answer == no_answer:\n",
        "            sub_tree = yes_answer\n",
        "        else:\n",
        "            sub_tree[question].append(yes_answer)\n",
        "            sub_tree[question].append(no_answer)\n",
        "        \n",
        "        return sub_tree"
      ],
      "metadata": {
        "id": "o5u1QZhptcd_"
      },
      "execution_count": 36,
      "outputs": []
    },
    {
      "cell_type": "code",
      "source": [
        "from pprint import pprint\n",
        "tree = decision_tree_algorithm(x_train, max_depth=3)\n",
        "pprint(tree)"
      ],
      "metadata": {
        "colab": {
          "base_uri": "https://localhost:8080/"
        },
        "id": "Z6WIKyimIY3F",
        "outputId": "3c035477-d2dd-4817-b897-da188a5b4a81"
      },
      "execution_count": 37,
      "outputs": [
        {
          "output_type": "stream",
          "name": "stdout",
          "text": [
            "{'flipper_length_mm <= 207.0': [{'bill_length_mm <= 42.9': ['Adelie',\n",
            "                                                            {'island = Dream': ['Chinstrap',\n",
            "                                                                                'Adelie']}]},\n",
            "                                {'island = Biscoe': ['Gentoo',\n",
            "                                                     {'bill_length_mm <= 44.1': ['Adelie',\n",
            "                                                                                 'Chinstrap']}]}]}\n"
          ]
        }
      ]
    },
    {
      "cell_type": "markdown",
      "source": [
        "###Prediction of the Species"
      ],
      "metadata": {
        "id": "l6ZvMG2CYGt8"
      }
    },
    {
      "cell_type": "code",
      "source": [
        "def predict(example, tree):\n",
        "    question = list(tree.keys())[0]\n",
        "    feature_name, comparison_operator, value = question.split(\" \")\n",
        "\n",
        "    # ask question\n",
        "    if comparison_operator == \"<=\":  # feature is continuous\n",
        "        if example[feature_name] <= float(value):\n",
        "            answer = tree[question][0]\n",
        "        else:\n",
        "            answer = tree[question][1]\n",
        "    \n",
        "    # feature is categorical\n",
        "    else:\n",
        "        if str(example[feature_name]) == value:\n",
        "            answer = tree[question][0]\n",
        "        else:\n",
        "            answer = tree[question][1]\n",
        "\n",
        "    # base case\n",
        "    if not isinstance(answer, dict):\n",
        "        return answer\n",
        "    \n",
        "    # recursive part\n",
        "    else:\n",
        "        residual_tree = answer\n",
        "        return predict(example, residual_tree)"
      ],
      "metadata": {
        "id": "VtUCjrmMVyCl"
      },
      "execution_count": 38,
      "outputs": []
    },
    {
      "cell_type": "code",
      "source": [
        "eg = x_test.iloc[9]\n",
        "predict(eg, tree)"
      ],
      "metadata": {
        "colab": {
          "base_uri": "https://localhost:8080/",
          "height": 35
        },
        "id": "wfM7azNUXo4-",
        "outputId": "2759093a-29f2-4816-b72e-53c7e0fd99dc"
      },
      "execution_count": 39,
      "outputs": [
        {
          "output_type": "execute_result",
          "data": {
            "application/vnd.google.colaboratory.intrinsic+json": {
              "type": "string"
            },
            "text/plain": [
              "'Adelie'"
            ]
          },
          "metadata": {},
          "execution_count": 39
        }
      ]
    },
    {
      "cell_type": "markdown",
      "source": [
        "Overall and Classwise Accuracy"
      ],
      "metadata": {
        "id": "QhW4ljJVYVhD"
      }
    },
    {
      "cell_type": "code",
      "source": [
        "def calculate_accuracy(df, tree):\n",
        "\n",
        "    df[\"classification\"] = df.apply(predict, axis=1, args=(tree,))\n",
        "    df[\"classification_correct\"] = df[\"classification\"] == df[\"species\"]\n",
        "    \n",
        "    overall_accuracy = df[\"classification_correct\"].mean()\n",
        "    data = df.values\n",
        "    unique_classes, unique_counts = np.unique(data[:,-3], return_counts = True)\n",
        "\n",
        "    #lists of predicted and orignal data\n",
        "    class_orig = data[:,-3]\n",
        "    class_pred = data[:,-2]\n",
        "\n",
        "    class_wise_accuracy_data = []\n",
        "\n",
        "    for class_type in unique_classes:\n",
        "      tp = 0\n",
        "      fp = 0\n",
        "      for i in range(len(class_orig)):\n",
        "        if (class_type == class_orig[i] or class_type == class_pred[i]):\n",
        "          if (class_orig[i] == class_pred[i]):\n",
        "            tp+=1\n",
        "          else:\n",
        "            fp+=1\n",
        "      class_wise_accuracy_data.append(tp/(tp+fp))\n",
        "    classwise_accuracy = sum(class_wise_accuracy_data)/len(class_wise_accuracy_data)\n",
        "\n",
        "    return overall_accuracy, classwise_accuracy"
      ],
      "metadata": {
        "id": "1-PoTgsqYbLg"
      },
      "execution_count": 48,
      "outputs": []
    },
    {
      "cell_type": "code",
      "source": [
        "overall_accuracy, classwise_accuracy = calculate_accuracy(x_test, tree)\n",
        "print(overall_accuracy, classwise_accuracy)"
      ],
      "metadata": {
        "colab": {
          "base_uri": "https://localhost:8080/"
        },
        "id": "PI2s2m4YpVH_",
        "outputId": "69da7c44-f7e3-4d33-a2e7-80d53331c1d6"
      },
      "execution_count": 49,
      "outputs": [
        {
          "output_type": "stream",
          "name": "stdout",
          "text": [
            "0.9253731343283582 0.8576388888888888\n"
          ]
        }
      ]
    }
  ]
}