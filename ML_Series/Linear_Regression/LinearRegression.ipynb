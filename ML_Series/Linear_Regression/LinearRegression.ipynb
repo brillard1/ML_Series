{
  "nbformat": 4,
  "nbformat_minor": 0,
  "metadata": {
    "colab": {
      "name": "LinearRegression.ipynb",
      "provenance": []
    },
    "kernelspec": {
      "name": "python3",
      "display_name": "Python 3"
    },
    "language_info": {
      "name": "python"
    }
  },
  "cells": [
    {
      "cell_type": "code",
      "source": [
        "!pip install quandl"
      ],
      "metadata": {
        "colab": {
          "base_uri": "https://localhost:8080/"
        },
        "id": "FY5IZt8rM9p6",
        "outputId": "3261f3f7-b848-4eb9-afef-acbecadd340b"
      },
      "execution_count": 2,
      "outputs": [
        {
          "output_type": "stream",
          "name": "stdout",
          "text": [
            "Collecting quandl\n",
            "  Downloading Quandl-3.7.0-py2.py3-none-any.whl (26 kB)\n",
            "Collecting inflection>=0.3.1\n",
            "  Downloading inflection-0.5.1-py2.py3-none-any.whl (9.5 kB)\n",
            "Requirement already satisfied: numpy>=1.8 in /usr/local/lib/python3.7/dist-packages (from quandl) (1.19.5)\n",
            "Requirement already satisfied: more-itertools in /usr/local/lib/python3.7/dist-packages (from quandl) (8.12.0)\n",
            "Requirement already satisfied: requests>=2.7.0 in /usr/local/lib/python3.7/dist-packages (from quandl) (2.23.0)\n",
            "Requirement already satisfied: pandas>=0.14 in /usr/local/lib/python3.7/dist-packages (from quandl) (1.1.5)\n",
            "Requirement already satisfied: python-dateutil in /usr/local/lib/python3.7/dist-packages (from quandl) (2.8.2)\n",
            "Requirement already satisfied: six in /usr/local/lib/python3.7/dist-packages (from quandl) (1.15.0)\n",
            "Requirement already satisfied: pytz>=2017.2 in /usr/local/lib/python3.7/dist-packages (from pandas>=0.14->quandl) (2018.9)\n",
            "Requirement already satisfied: urllib3!=1.25.0,!=1.25.1,<1.26,>=1.21.1 in /usr/local/lib/python3.7/dist-packages (from requests>=2.7.0->quandl) (1.24.3)\n",
            "Requirement already satisfied: certifi>=2017.4.17 in /usr/local/lib/python3.7/dist-packages (from requests>=2.7.0->quandl) (2021.10.8)\n",
            "Requirement already satisfied: idna<3,>=2.5 in /usr/local/lib/python3.7/dist-packages (from requests>=2.7.0->quandl) (2.10)\n",
            "Requirement already satisfied: chardet<4,>=3.0.2 in /usr/local/lib/python3.7/dist-packages (from requests>=2.7.0->quandl) (3.0.4)\n",
            "Installing collected packages: inflection, quandl\n",
            "Successfully installed inflection-0.5.1 quandl-3.7.0\n"
          ]
        }
      ]
    },
    {
      "cell_type": "code",
      "execution_count": 3,
      "metadata": {
        "colab": {
          "base_uri": "https://localhost:8080/",
          "height": 238
        },
        "id": "dB1MuBoCMcQ0",
        "outputId": "f6f8c238-98f6-45de-ff8b-f788facbdb66"
      },
      "outputs": [
        {
          "output_type": "execute_result",
          "data": {
            "text/html": [
              "\n",
              "  <div id=\"df-92975bf5-5ae2-4aca-87fb-170af6683212\">\n",
              "    <div class=\"colab-df-container\">\n",
              "      <div>\n",
              "<style scoped>\n",
              "    .dataframe tbody tr th:only-of-type {\n",
              "        vertical-align: middle;\n",
              "    }\n",
              "\n",
              "    .dataframe tbody tr th {\n",
              "        vertical-align: top;\n",
              "    }\n",
              "\n",
              "    .dataframe thead th {\n",
              "        text-align: right;\n",
              "    }\n",
              "</style>\n",
              "<table border=\"1\" class=\"dataframe\">\n",
              "  <thead>\n",
              "    <tr style=\"text-align: right;\">\n",
              "      <th></th>\n",
              "      <th>Adj. Close</th>\n",
              "      <th>HL_PCT</th>\n",
              "      <th>PCT_change</th>\n",
              "      <th>Adj. Volume</th>\n",
              "    </tr>\n",
              "    <tr>\n",
              "      <th>Date</th>\n",
              "      <th></th>\n",
              "      <th></th>\n",
              "      <th></th>\n",
              "      <th></th>\n",
              "    </tr>\n",
              "  </thead>\n",
              "  <tbody>\n",
              "    <tr>\n",
              "      <th>2004-08-19</th>\n",
              "      <td>50.322842</td>\n",
              "      <td>3.712563</td>\n",
              "      <td>0.324968</td>\n",
              "      <td>44659000.0</td>\n",
              "    </tr>\n",
              "    <tr>\n",
              "      <th>2004-08-20</th>\n",
              "      <td>54.322689</td>\n",
              "      <td>0.710922</td>\n",
              "      <td>7.227007</td>\n",
              "      <td>22834300.0</td>\n",
              "    </tr>\n",
              "    <tr>\n",
              "      <th>2004-08-23</th>\n",
              "      <td>54.869377</td>\n",
              "      <td>3.729433</td>\n",
              "      <td>-1.227880</td>\n",
              "      <td>18256100.0</td>\n",
              "    </tr>\n",
              "    <tr>\n",
              "      <th>2004-08-24</th>\n",
              "      <td>52.597363</td>\n",
              "      <td>6.417469</td>\n",
              "      <td>-5.726357</td>\n",
              "      <td>15247300.0</td>\n",
              "    </tr>\n",
              "    <tr>\n",
              "      <th>2004-08-25</th>\n",
              "      <td>53.164113</td>\n",
              "      <td>1.886792</td>\n",
              "      <td>1.183658</td>\n",
              "      <td>9188600.0</td>\n",
              "    </tr>\n",
              "  </tbody>\n",
              "</table>\n",
              "</div>\n",
              "      <button class=\"colab-df-convert\" onclick=\"convertToInteractive('df-92975bf5-5ae2-4aca-87fb-170af6683212')\"\n",
              "              title=\"Convert this dataframe to an interactive table.\"\n",
              "              style=\"display:none;\">\n",
              "        \n",
              "  <svg xmlns=\"http://www.w3.org/2000/svg\" height=\"24px\"viewBox=\"0 0 24 24\"\n",
              "       width=\"24px\">\n",
              "    <path d=\"M0 0h24v24H0V0z\" fill=\"none\"/>\n",
              "    <path d=\"M18.56 5.44l.94 2.06.94-2.06 2.06-.94-2.06-.94-.94-2.06-.94 2.06-2.06.94zm-11 1L8.5 8.5l.94-2.06 2.06-.94-2.06-.94L8.5 2.5l-.94 2.06-2.06.94zm10 10l.94 2.06.94-2.06 2.06-.94-2.06-.94-.94-2.06-.94 2.06-2.06.94z\"/><path d=\"M17.41 7.96l-1.37-1.37c-.4-.4-.92-.59-1.43-.59-.52 0-1.04.2-1.43.59L10.3 9.45l-7.72 7.72c-.78.78-.78 2.05 0 2.83L4 21.41c.39.39.9.59 1.41.59.51 0 1.02-.2 1.41-.59l7.78-7.78 2.81-2.81c.8-.78.8-2.07 0-2.86zM5.41 20L4 18.59l7.72-7.72 1.47 1.35L5.41 20z\"/>\n",
              "  </svg>\n",
              "      </button>\n",
              "      \n",
              "  <style>\n",
              "    .colab-df-container {\n",
              "      display:flex;\n",
              "      flex-wrap:wrap;\n",
              "      gap: 12px;\n",
              "    }\n",
              "\n",
              "    .colab-df-convert {\n",
              "      background-color: #E8F0FE;\n",
              "      border: none;\n",
              "      border-radius: 50%;\n",
              "      cursor: pointer;\n",
              "      display: none;\n",
              "      fill: #1967D2;\n",
              "      height: 32px;\n",
              "      padding: 0 0 0 0;\n",
              "      width: 32px;\n",
              "    }\n",
              "\n",
              "    .colab-df-convert:hover {\n",
              "      background-color: #E2EBFA;\n",
              "      box-shadow: 0px 1px 2px rgba(60, 64, 67, 0.3), 0px 1px 3px 1px rgba(60, 64, 67, 0.15);\n",
              "      fill: #174EA6;\n",
              "    }\n",
              "\n",
              "    [theme=dark] .colab-df-convert {\n",
              "      background-color: #3B4455;\n",
              "      fill: #D2E3FC;\n",
              "    }\n",
              "\n",
              "    [theme=dark] .colab-df-convert:hover {\n",
              "      background-color: #434B5C;\n",
              "      box-shadow: 0px 1px 3px 1px rgba(0, 0, 0, 0.15);\n",
              "      filter: drop-shadow(0px 1px 2px rgba(0, 0, 0, 0.3));\n",
              "      fill: #FFFFFF;\n",
              "    }\n",
              "  </style>\n",
              "\n",
              "      <script>\n",
              "        const buttonEl =\n",
              "          document.querySelector('#df-92975bf5-5ae2-4aca-87fb-170af6683212 button.colab-df-convert');\n",
              "        buttonEl.style.display =\n",
              "          google.colab.kernel.accessAllowed ? 'block' : 'none';\n",
              "\n",
              "        async function convertToInteractive(key) {\n",
              "          const element = document.querySelector('#df-92975bf5-5ae2-4aca-87fb-170af6683212');\n",
              "          const dataTable =\n",
              "            await google.colab.kernel.invokeFunction('convertToInteractive',\n",
              "                                                     [key], {});\n",
              "          if (!dataTable) return;\n",
              "\n",
              "          const docLinkHtml = 'Like what you see? Visit the ' +\n",
              "            '<a target=\"_blank\" href=https://colab.research.google.com/notebooks/data_table.ipynb>data table notebook</a>'\n",
              "            + ' to learn more about interactive tables.';\n",
              "          element.innerHTML = '';\n",
              "          dataTable['output_type'] = 'display_data';\n",
              "          await google.colab.output.renderOutput(dataTable, element);\n",
              "          const docLink = document.createElement('div');\n",
              "          docLink.innerHTML = docLinkHtml;\n",
              "          element.appendChild(docLink);\n",
              "        }\n",
              "      </script>\n",
              "    </div>\n",
              "  </div>\n",
              "  "
            ],
            "text/plain": [
              "            Adj. Close    HL_PCT  PCT_change  Adj. Volume\n",
              "Date                                                     \n",
              "2004-08-19   50.322842  3.712563    0.324968   44659000.0\n",
              "2004-08-20   54.322689  0.710922    7.227007   22834300.0\n",
              "2004-08-23   54.869377  3.729433   -1.227880   18256100.0\n",
              "2004-08-24   52.597363  6.417469   -5.726357   15247300.0\n",
              "2004-08-25   53.164113  1.886792    1.183658    9188600.0"
            ]
          },
          "metadata": {},
          "execution_count": 3
        }
      ],
      "source": [
        "import pandas as pd\n",
        "import numpy as np\n",
        "import quandl, math, datetime\n",
        "from  sklearn import preprocessing, svm\n",
        "from sklearn.model_selection import train_test_split\n",
        "from sklearn.linear_model import LinearRegression\n",
        "import matplotlib.pyplot as plt\n",
        "from matplotlib import style \n",
        "\n",
        "style.use('ggplot')\n",
        "\n",
        "df = quandl.get('WIKI/GOOGL')\n",
        "\n",
        "df = df[['Adj. Open','Adj. High','Adj. Low','Adj. Close','Adj. Volume',]]\n",
        "df['HL_PCT'] = (df['Adj. High'] - df['Adj. Close']) / df['Adj. Close'] * 100.0\n",
        "df['PCT_change'] = (df['Adj. Close'] - df['Adj. Open']) / df['Adj. Open'] * 100.0\n",
        "df = df[['Adj. Close','HL_PCT','PCT_change','Adj. Volume']]\n",
        "\n",
        "df.head()\n"
      ]
    },
    {
      "cell_type": "code",
      "source": [
        "forecast_col= 'Adj. Close'\n",
        "df.fillna(-99999, inplace=True)\n",
        "\n",
        "forecast_out = int(math.ceil(0.01*len(df)))\n",
        "\n",
        "df['Label'] = df[forecast_col].shift(-forecast_out)\n",
        "\n",
        "X=np.array(df.drop(['Label'],1))\n",
        "X = preprocessing.scale(X)\n",
        "X = X[:-forecast_out]\n",
        "X_lately = X[-forecast_out:]\n",
        "\n",
        "df.dropna(inplace=True)\n",
        "y=np.array(df['Label'])\n",
        "\n",
        "X_train,X_test,y_train,y_test = train_test_split(X,y,test_size=0.2)\n",
        "\n",
        "clf = LinearRegression(n_jobs=-1)\n",
        "clf.fit(X_train,y_train)\n",
        "accuracy = clf.score(X_test, y_test)\n",
        "forecast_set = clf.predict(X_lately)\n",
        "print(forecast_set,accuracy, forecast_out)\n"
      ],
      "metadata": {
        "colab": {
          "base_uri": "https://localhost:8080/"
        },
        "id": "5Z56sJsfMl4a",
        "outputId": "23d61a35-3487-4571-ab83-1004e2cfd1c0"
      },
      "execution_count": 4,
      "outputs": [
        {
          "output_type": "stream",
          "name": "stdout",
          "text": [
            "[1076.22243185 1090.39284896 1104.32471148 1098.71324405 1092.25088083\n",
            " 1089.70224552 1087.98263458 1084.88093293 1078.99136443 1074.72394135\n",
            " 1072.23176395 1092.62720904 1110.97737498 1114.83062973 1129.63511466\n",
            " 1133.6291087  1131.88247356 1129.60428287 1131.22888    1150.32995511\n",
            " 1149.50925057 1158.64168121 1155.30354659 1163.11201506 1184.26065076\n",
            " 1195.81513622 1190.32093631 1201.9190256  1207.10894897 1206.08170493\n",
            " 1196.82428825 1201.80578743 1200.8197242  1136.20742176 1085.36188831] 0.9756279629148296 35\n"
          ]
        }
      ]
    },
    {
      "cell_type": "markdown",
      "source": [
        "**The forecast_set array represents the data of Closing Price each day in the coming future for 35 days, Accuracy obtained on the testing data is 97.56%.**"
      ],
      "metadata": {
        "id": "8-dkNtgjNQBq"
      }
    },
    {
      "cell_type": "code",
      "source": [
        "df['Forecast']=np.nan \n",
        "last_date= df.iloc[-1].name\n",
        "last_unix = last_date.timestamp()\n",
        "one_day=86400\n",
        "next_unix = last_unix + one_day\n",
        "\n",
        "for i in forecast_set:\n",
        "\tnext_date = datetime.datetime.fromtimestamp(next_unix)\n",
        "\tnext_unix += one_day\n",
        "\tdf.loc[next_date] = [ np.nan for _ in range(len(df.columns)-1)] + [i]\n",
        "\n",
        "print (df.tail())\n",
        "\n",
        "#fully accurate forecasting code"
      ],
      "metadata": {
        "colab": {
          "base_uri": "https://localhost:8080/"
        },
        "id": "WdobCMBOMqSn",
        "outputId": "b021d46a-93a2-4f89-d601-7037f6f975e9"
      },
      "execution_count": 7,
      "outputs": [
        {
          "output_type": "stream",
          "name": "stdout",
          "text": [
            "            Adj. Close  HL_PCT  PCT_change  Adj. Volume  Label     Forecast\n",
            "Date                                                                       \n",
            "2018-04-12         NaN     NaN         NaN          NaN    NaN  1196.824288\n",
            "2018-04-13         NaN     NaN         NaN          NaN    NaN  1201.805787\n",
            "2018-04-14         NaN     NaN         NaN          NaN    NaN  1200.819724\n",
            "2018-04-15         NaN     NaN         NaN          NaN    NaN  1136.207422\n",
            "2018-04-16         NaN     NaN         NaN          NaN    NaN  1085.361888\n"
          ]
        }
      ]
    },
    {
      "cell_type": "markdown",
      "source": [
        "The last 5 days of forecasted data."
      ],
      "metadata": {
        "id": "y7NOwDcKOGV7"
      }
    },
    {
      "cell_type": "code",
      "source": [
        "df['Adj. Close'].plot()\n",
        "df['Forecast'].plot()\n",
        "plt.legend(loc=4)\n",
        "plt.xlabel('Date')\n",
        "plt.ylabel('Price')\n",
        "plt.show()\n"
      ],
      "metadata": {
        "colab": {
          "base_uri": "https://localhost:8080/",
          "height": 272
        },
        "id": "_r7Uslx_OGma",
        "outputId": "240c897d-251e-4494-b69e-1f0339fbe812"
      },
      "execution_count": 6,
      "outputs": [
        {
          "output_type": "display_data",
          "data": {
            "image/png": "[encoded data removed]",
            "text/plain": [
              "<Figure size 432x288 with 1 Axes>"
            ]
          },
          "metadata": {}
        }
      ]
    }
  ]
}