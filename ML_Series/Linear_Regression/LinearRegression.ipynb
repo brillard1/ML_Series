{
  "nbformat": 4,
  "nbformat_minor": 0,
  "metadata": {
    "colab": {
      "name": "LinearRegression.ipynb",
      "provenance": []
    },
    "kernelspec": {
      "name": "python3",
      "display_name": "Python 3"
    },
    "language_info": {
      "name": "python"
    }
  },
  "cells": [
    {
      "cell_type": "code",
      "source": [
        "!pip install quandl"
      ],
      "metadata": {
        "colab": {
          "base_uri": "https://localhost:8080/"
        },
        "id": "FY5IZt8rM9p6",
        "outputId": "2bc2c6d7-f8be-434d-de0d-b44181fb7a9e"
      },
      "execution_count": 11,
      "outputs": [
        {
          "output_type": "stream",
          "name": "stdout",
          "text": [
            "Requirement already satisfied: quandl in /usr/local/lib/python3.7/dist-packages (3.7.0)\n",
            "Requirement already satisfied: python-dateutil in /usr/local/lib/python3.7/dist-packages (from quandl) (2.8.2)\n",
            "Requirement already satisfied: inflection>=0.3.1 in /usr/local/lib/python3.7/dist-packages (from quandl) (0.5.1)\n",
            "Requirement already satisfied: more-itertools in /usr/local/lib/python3.7/dist-packages (from quandl) (8.12.0)\n",
            "Requirement already satisfied: numpy>=1.8 in /usr/local/lib/python3.7/dist-packages (from quandl) (1.19.5)\n",
            "Requirement already satisfied: six in /usr/local/lib/python3.7/dist-packages (from quandl) (1.15.0)\n",
            "Requirement already satisfied: requests>=2.7.0 in /usr/local/lib/python3.7/dist-packages (from quandl) (2.23.0)\n",
            "Requirement already satisfied: pandas>=0.14 in /usr/local/lib/python3.7/dist-packages (from quandl) (1.1.5)\n",
            "Requirement already satisfied: pytz>=2017.2 in /usr/local/lib/python3.7/dist-packages (from pandas>=0.14->quandl) (2018.9)\n",
            "Requirement already satisfied: urllib3!=1.25.0,!=1.25.1,<1.26,>=1.21.1 in /usr/local/lib/python3.7/dist-packages (from requests>=2.7.0->quandl) (1.24.3)\n",
            "Requirement already satisfied: idna<3,>=2.5 in /usr/local/lib/python3.7/dist-packages (from requests>=2.7.0->quandl) (2.10)\n",
            "Requirement already satisfied: certifi>=2017.4.17 in /usr/local/lib/python3.7/dist-packages (from requests>=2.7.0->quandl) (2021.10.8)\n",
            "Requirement already satisfied: chardet<4,>=3.0.2 in /usr/local/lib/python3.7/dist-packages (from requests>=2.7.0->quandl) (3.0.4)\n"
          ]
        }
      ]
    },
    {
      "cell_type": "code",
      "execution_count": 12,
      "metadata": {
        "colab": {
          "base_uri": "https://localhost:8080/",
          "height": 238
        },
        "id": "dB1MuBoCMcQ0",
        "outputId": "930abfcb-c6ca-49dd-9099-bc7c1031950a"
      },
      "outputs": [
        {
          "output_type": "execute_result",
          "data": {
            "text/html": [
              "\n",
              "  <div id=\"df-7b05ca12-5cba-41db-837e-c0ced5168a73\">\n",
              "    <div class=\"colab-df-container\">\n",
              "      <div>\n",
              "<style scoped>\n",
              "    .dataframe tbody tr th:only-of-type {\n",
              "        vertical-align: middle;\n",
              "    }\n",
              "\n",
              "    .dataframe tbody tr th {\n",
              "        vertical-align: top;\n",
              "    }\n",
              "\n",
              "    .dataframe thead th {\n",
              "        text-align: right;\n",
              "    }\n",
              "</style>\n",
              "<table border=\"1\" class=\"dataframe\">\n",
              "  <thead>\n",
              "    <tr style=\"text-align: right;\">\n",
              "      <th></th>\n",
              "      <th>Adj. Close</th>\n",
              "      <th>HL_PCT</th>\n",
              "      <th>PCT_change</th>\n",
              "      <th>Adj. Volume</th>\n",
              "    </tr>\n",
              "    <tr>\n",
              "      <th>Date</th>\n",
              "      <th></th>\n",
              "      <th></th>\n",
              "      <th></th>\n",
              "      <th></th>\n",
              "    </tr>\n",
              "  </thead>\n",
              "  <tbody>\n",
              "    <tr>\n",
              "      <th>2004-08-19</th>\n",
              "      <td>50.322842</td>\n",
              "      <td>3.712563</td>\n",
              "      <td>0.324968</td>\n",
              "      <td>44659000.0</td>\n",
              "    </tr>\n",
              "    <tr>\n",
              "      <th>2004-08-20</th>\n",
              "      <td>54.322689</td>\n",
              "      <td>0.710922</td>\n",
              "      <td>7.227007</td>\n",
              "      <td>22834300.0</td>\n",
              "    </tr>\n",
              "    <tr>\n",
              "      <th>2004-08-23</th>\n",
              "      <td>54.869377</td>\n",
              "      <td>3.729433</td>\n",
              "      <td>-1.227880</td>\n",
              "      <td>18256100.0</td>\n",
              "    </tr>\n",
              "    <tr>\n",
              "      <th>2004-08-24</th>\n",
              "      <td>52.597363</td>\n",
              "      <td>6.417469</td>\n",
              "      <td>-5.726357</td>\n",
              "      <td>15247300.0</td>\n",
              "    </tr>\n",
              "    <tr>\n",
              "      <th>2004-08-25</th>\n",
              "      <td>53.164113</td>\n",
              "      <td>1.886792</td>\n",
              "      <td>1.183658</td>\n",
              "      <td>9188600.0</td>\n",
              "    </tr>\n",
              "  </tbody>\n",
              "</table>\n",
              "</div>\n",
              "      <button class=\"colab-df-convert\" onclick=\"convertToInteractive('df-7b05ca12-5cba-41db-837e-c0ced5168a73')\"\n",
              "              title=\"Convert this dataframe to an interactive table.\"\n",
              "              style=\"display:none;\">\n",
              "        \n",
              "  <svg xmlns=\"http://www.w3.org/2000/svg\" height=\"24px\"viewBox=\"0 0 24 24\"\n",
              "       width=\"24px\">\n",
              "    <path d=\"M0 0h24v24H0V0z\" fill=\"none\"/>\n",
              "    <path d=\"M18.56 5.44l.94 2.06.94-2.06 2.06-.94-2.06-.94-.94-2.06-.94 2.06-2.06.94zm-11 1L8.5 8.5l.94-2.06 2.06-.94-2.06-.94L8.5 2.5l-.94 2.06-2.06.94zm10 10l.94 2.06.94-2.06 2.06-.94-2.06-.94-.94-2.06-.94 2.06-2.06.94z\"/><path d=\"M17.41 7.96l-1.37-1.37c-.4-.4-.92-.59-1.43-.59-.52 0-1.04.2-1.43.59L10.3 9.45l-7.72 7.72c-.78.78-.78 2.05 0 2.83L4 21.41c.39.39.9.59 1.41.59.51 0 1.02-.2 1.41-.59l7.78-7.78 2.81-2.81c.8-.78.8-2.07 0-2.86zM5.41 20L4 18.59l7.72-7.72 1.47 1.35L5.41 20z\"/>\n",
              "  </svg>\n",
              "      </button>\n",
              "      \n",
              "  <style>\n",
              "    .colab-df-container {\n",
              "      display:flex;\n",
              "      flex-wrap:wrap;\n",
              "      gap: 12px;\n",
              "    }\n",
              "\n",
              "    .colab-df-convert {\n",
              "      background-color: #E8F0FE;\n",
              "      border: none;\n",
              "      border-radius: 50%;\n",
              "      cursor: pointer;\n",
              "      display: none;\n",
              "      fill: #1967D2;\n",
              "      height: 32px;\n",
              "      padding: 0 0 0 0;\n",
              "      width: 32px;\n",
              "    }\n",
              "\n",
              "    .colab-df-convert:hover {\n",
              "      background-color: #E2EBFA;\n",
              "      box-shadow: 0px 1px 2px rgba(60, 64, 67, 0.3), 0px 1px 3px 1px rgba(60, 64, 67, 0.15);\n",
              "      fill: #174EA6;\n",
              "    }\n",
              "\n",
              "    [theme=dark] .colab-df-convert {\n",
              "      background-color: #3B4455;\n",
              "      fill: #D2E3FC;\n",
              "    }\n",
              "\n",
              "    [theme=dark] .colab-df-convert:hover {\n",
              "      background-color: #434B5C;\n",
              "      box-shadow: 0px 1px 3px 1px rgba(0, 0, 0, 0.15);\n",
              "      filter: drop-shadow(0px 1px 2px rgba(0, 0, 0, 0.3));\n",
              "      fill: #FFFFFF;\n",
              "    }\n",
              "  </style>\n",
              "\n",
              "      <script>\n",
              "        const buttonEl =\n",
              "          document.querySelector('#df-7b05ca12-5cba-41db-837e-c0ced5168a73 button.colab-df-convert');\n",
              "        buttonEl.style.display =\n",
              "          google.colab.kernel.accessAllowed ? 'block' : 'none';\n",
              "\n",
              "        async function convertToInteractive(key) {\n",
              "          const element = document.querySelector('#df-7b05ca12-5cba-41db-837e-c0ced5168a73');\n",
              "          const dataTable =\n",
              "            await google.colab.kernel.invokeFunction('convertToInteractive',\n",
              "                                                     [key], {});\n",
              "          if (!dataTable) return;\n",
              "\n",
              "          const docLinkHtml = 'Like what you see? Visit the ' +\n",
              "            '<a target=\"_blank\" href=https://colab.research.google.com/notebooks/data_table.ipynb>data table notebook</a>'\n",
              "            + ' to learn more about interactive tables.';\n",
              "          element.innerHTML = '';\n",
              "          dataTable['output_type'] = 'display_data';\n",
              "          await google.colab.output.renderOutput(dataTable, element);\n",
              "          const docLink = document.createElement('div');\n",
              "          docLink.innerHTML = docLinkHtml;\n",
              "          element.appendChild(docLink);\n",
              "        }\n",
              "      </script>\n",
              "    </div>\n",
              "  </div>\n",
              "  "
            ],
            "text/plain": [
              "            Adj. Close    HL_PCT  PCT_change  Adj. Volume\n",
              "Date                                                     \n",
              "2004-08-19   50.322842  3.712563    0.324968   44659000.0\n",
              "2004-08-20   54.322689  0.710922    7.227007   22834300.0\n",
              "2004-08-23   54.869377  3.729433   -1.227880   18256100.0\n",
              "2004-08-24   52.597363  6.417469   -5.726357   15247300.0\n",
              "2004-08-25   53.164113  1.886792    1.183658    9188600.0"
            ]
          },
          "metadata": {},
          "execution_count": 12
        }
      ],
      "source": [
        "import pandas as pd\n",
        "import numpy as np\n",
        "import quandl, math, datetime\n",
        "from  sklearn import preprocessing, svm\n",
        "from sklearn.model_selection import train_test_split\n",
        "from sklearn.linear_model import LinearRegression\n",
        "import matplotlib.pyplot as plt\n",
        "from matplotlib import style \n",
        "\n",
        "style.use('ggplot')\n",
        "\n",
        "df = quandl.get('WIKI/GOOGL')\n",
        "\n",
        "df = df[['Adj. Open','Adj. High','Adj. Low','Adj. Close','Adj. Volume',]]\n",
        "df['HL_PCT'] = (df['Adj. High'] - df['Adj. Close']) / df['Adj. Close'] * 100.0\n",
        "df['PCT_change'] = (df['Adj. Close'] - df['Adj. Open']) / df['Adj. Open'] * 100.0\n",
        "df = df[['Adj. Close','HL_PCT','PCT_change','Adj. Volume']]\n",
        "\n",
        "df.head()\n"
      ]
    },
    {
      "cell_type": "code",
      "source": [
        "forecast_col= 'Adj. Close'\n",
        "df.fillna(-99999, inplace=True)\n",
        "\n",
        "forecast_out = int(math.ceil(0.1*len(df)))\n",
        "\n",
        "df['Label'] = df[forecast_col].shift(-forecast_out)\n",
        "\n",
        "X=np.array(df.drop(['Label'],1))\n",
        "X = preprocessing.scale(X)\n",
        "X_lately = X[-forecast_out:]\n",
        "X = X[:-forecast_out]\n",
        "\n",
        "df.dropna(inplace=True)\n",
        "y=np.array(df['Label'])\n",
        "\n",
        "X_train,X_test,y_train,y_test = train_test_split(X,y,test_size=0.2)\n",
        "\n",
        "clf = LinearRegression(n_jobs=-1)\n",
        "clf.fit(X_train,y_train)\n",
        "accuracy = clf.score(X_test, y_test)\n",
        "forecast_set = clf.predict(X_lately)\n",
        "print(forecast_set,accuracy, forecast_out)\n"
      ],
      "metadata": {
        "colab": {
          "base_uri": "https://localhost:8080/"
        },
        "id": "5Z56sJsfMl4a",
        "outputId": "22a07dfc-7f76-402c-f38a-7c4cdbccbe7d"
      },
      "execution_count": 13,
      "outputs": [
        {
          "output_type": "stream",
          "name": "stdout",
          "text": [
            "[ 962.98393891  947.18101665  978.86806707  974.41883871  985.56677237\n",
            "  977.85477122  984.92768125  986.17915215  976.13265701  974.15074991\n",
            " 1001.97238025  993.10479285  976.22491112  958.99312574  962.27300573\n",
            "  978.057189    975.49623269  995.04903597  996.88397444 1016.09906925\n",
            " 1012.71141999 1028.33043085 1027.70779755 1023.44676359 1013.12940163\n",
            " 1019.11513474 1018.30370204 1013.23575313 1010.77322483 1010.41275046\n",
            " 1017.67166744 1006.76514013 1004.30366976  992.58565148 1015.87061028\n",
            " 1011.50019342 1017.64831749 1039.48293572 1034.67363656 1032.19682498\n",
            " 1035.86900494 1034.89041322 1039.3328804  1031.84996527 1033.01310668\n",
            " 1034.16764453 1031.98105915 1061.38430697 1061.75257695 1072.50181022\n",
            " 1068.61895242 1067.04655484 1031.2218733  1025.00631166 1019.08990296\n",
            " 1029.1378726  1026.49048397 1024.67051734 1038.47510715 1038.39861268\n",
            " 1034.9128043  1043.76121243 1049.04133104 1048.58657431 1047.01472023\n",
            " 1052.24582725 1058.28197831 1061.99274519 1065.50498717 1061.45605369\n",
            " 1056.41707015 1062.85351303 1055.03550853 1071.70894868 1061.65065498\n",
            " 1059.69225048 1057.53215062 1065.47929169 1067.45620228 1074.49345692\n",
            " 1074.93931269 1082.27101727 1081.81084072 1083.22758991 1086.15488989\n",
            " 1087.14100153 1082.15295247 1071.76578044 1065.04280746 1045.19319788\n",
            " 1045.2481854  1054.89767239 1053.13281949 1065.3676836  1059.2740518\n",
            " 1058.3871217  1074.70703546 1065.36029594 1066.59252497 1059.28891424\n",
            " 1051.26379677 1054.5874879  1050.60549917 1052.9013038  1050.1240236\n",
            " 1075.60004164 1068.76702003 1070.43734551 1075.81672418 1072.56796732\n",
            " 1102.54260754 1114.46161955 1109.7842398  1112.54257204 1158.45558195\n",
            " 1169.27286688 1174.922893   1190.0048538  1195.25118052 1187.0988022\n",
            " 1202.35543801 1193.2823035  1189.53764201 1195.03925141 1190.04823766\n",
            " 1199.95644563 1202.61362321 1181.03632618 1191.27534506 1194.49744636\n",
            " 1205.04833668 1212.13194836 1218.63648494 1245.7628847  1239.65134767\n",
            " 1243.0829296  1235.33804548 1233.12174176 1244.13490619 1256.29249159\n",
            " 1248.20968772 1250.24811205 1250.62530226 1221.30214403 1203.21604157\n",
            " 1214.01324364 1212.1005919  1202.46434355 1193.88971369 1221.24599533\n",
            " 1214.39271669 1223.90306215 1219.48494717 1234.10583451 1221.57578744\n",
            " 1191.16003588 1203.86474115 1172.13848389 1164.05240682 1151.62408131\n",
            " 1169.50653997 1165.29405699 1181.34282602 1191.64195914 1189.9513526\n",
            " 1210.37265302 1214.59107786 1218.32163763 1221.73977533 1240.63126545\n",
            " 1239.84427771 1238.23539166 1240.82819265 1251.45787388 1209.37067965\n",
            " 1205.05242513 1191.29776655 1202.62441474 1183.74219232 1185.91389682\n",
            " 1179.88931111 1175.40936306 1180.25298438 1179.27715714 1183.96143668\n",
            " 1175.04019571 1155.1450071  1165.24555418 1170.91541378 1171.30064832\n",
            " 1183.27114209 1162.28786785 1157.59865205 1151.19813494 1180.67625403\n",
            " 1179.99517434 1171.99493052 1163.85237215 1160.39056907 1177.99132554\n",
            " 1182.20069433 1196.38627505 1188.30143573 1178.94631756 1173.83814527\n",
            " 1186.62926915 1176.68282809 1181.67059191 1179.55793522 1188.81409033\n",
            " 1174.80181576 1167.51695559 1161.49437545 1169.52437585 1187.8553649\n",
            " 1184.57365029 1181.79684272 1165.01170934 1174.24380682 1210.85271755\n",
            " 1207.55381883 1218.30191269 1209.57362869 1213.06379486 1208.36400864\n",
            " 1234.82735992 1245.39030346 1241.61926108 1234.67959657 1263.14444269\n",
            " 1258.19113184 1260.25790213 1258.53227819 1263.90270246 1264.69351339\n",
            " 1250.05811186 1252.7528923  1235.2128657  1231.91424626 1239.911384\n",
            " 1244.51470189 1314.30570653 1293.56495997 1292.97078933 1305.2799581\n",
            " 1301.79744793 1311.02880776 1303.45965428 1311.77357269 1305.90834754\n",
            " 1301.81463637 1303.27841132 1299.04539131 1293.69575193 1313.40241405\n",
            " 1295.58886308 1290.75772963 1312.87715157 1312.8999548  1319.33689955\n",
            " 1341.9078635  1332.39159598 1299.6868219  1294.01967146 1283.89140785\n",
            " 1268.75274479 1290.50003805 1301.34865298 1308.6687726  1310.75321471\n",
            " 1313.22749448 1317.10935896 1311.4445692  1325.7590982  1339.87081739\n",
            " 1355.76368989 1346.19268423 1338.43559873 1335.90010936 1331.99530335\n",
            " 1327.42573257 1323.18473719 1318.83019921 1313.83257064 1349.1678927\n",
            " 1371.80380917 1369.95485978 1387.57720907 1392.20127369 1386.0645746\n",
            " 1385.09642036 1385.51302551 1417.57078623 1417.15488734 1418.20184027\n",
            " 1415.02586801 1425.12631234 1460.83824909 1467.0274394  1462.79210215\n",
            " 1473.04568302 1476.07026785 1484.2952118  1472.64125187 1472.45840194\n",
            " 1476.05713966 1394.94783519 1354.23579441 1379.66642919 1325.51172849\n",
            " 1278.03951527 1314.21194346 1320.14964367 1320.42604252 1347.08607506\n",
            " 1364.08323845 1375.24564567 1390.23947294 1407.9208131  1389.67169428\n",
            " 1408.98790533 1428.99067862 1399.75634233 1384.31306904 1348.73149349\n",
            " 1365.31075694 1377.04568645 1373.09892908 1400.1329098  1412.93220107\n",
            " 1454.53161048 1460.41032875 1434.5888123  1439.50940053 1441.76747043\n",
            " 1418.8781468  1375.12876127 1369.49660502 1374.78167929 1323.19143808\n",
            " 1302.09575977 1316.75908154 1277.53978335] 0.8601235182307947 343\n"
          ]
        }
      ]
    },
    {
      "cell_type": "markdown",
      "source": [
        "**The forecast_set array represents the data of Closing Price each day in the coming future for 35 days, Accuracy obtained on the testing data is shown with the number of days forecasted.**"
      ],
      "metadata": {
        "id": "8-dkNtgjNQBq"
      }
    },
    {
      "cell_type": "code",
      "source": [
        "df['Forecast']=np.nan \n",
        "last_date= df.iloc[-1].name\n",
        "last_unix = last_date.timestamp()\n",
        "one_day=86400\n",
        "next_unix = last_unix + one_day\n",
        "\n",
        "for i in forecast_set:\n",
        "\tnext_date = datetime.datetime.fromtimestamp(next_unix)\n",
        "\tnext_unix += one_day\n",
        "\tdf.loc[next_date] = [ np.nan for _ in range(len(df.columns)-1)] + [i]\n",
        "\n",
        "print (df.tail())\n",
        "\n",
        "#fully accurate forecasting code"
      ],
      "metadata": {
        "colab": {
          "base_uri": "https://localhost:8080/"
        },
        "id": "WdobCMBOMqSn",
        "outputId": "f2879425-a795-44d4-e60a-ec9e8e8bfad0"
      },
      "execution_count": 14,
      "outputs": [
        {
          "output_type": "stream",
          "name": "stdout",
          "text": [
            "            Adj. Close  HL_PCT  PCT_change  Adj. Volume  Label     Forecast\n",
            "Date                                                                       \n",
            "2017-10-15         NaN     NaN         NaN          NaN    NaN  1374.781679\n",
            "2017-10-16         NaN     NaN         NaN          NaN    NaN  1323.191438\n",
            "2017-10-17         NaN     NaN         NaN          NaN    NaN  1302.095760\n",
            "2017-10-18         NaN     NaN         NaN          NaN    NaN  1316.759082\n",
            "2017-10-19         NaN     NaN         NaN          NaN    NaN  1277.539783\n"
          ]
        }
      ]
    },
    {
      "cell_type": "markdown",
      "source": [
        "The last 5 days of forecasted data."
      ],
      "metadata": {
        "id": "y7NOwDcKOGV7"
      }
    },
    {
      "cell_type": "code",
      "source": [
        "df['Adj. Close'].plot()\n",
        "df['Forecast'].plot()\n",
        "plt.legend(loc=4)\n",
        "plt.xlabel('Date')\n",
        "plt.ylabel('Price')\n",
        "plt.show()\n"
      ],
      "metadata": {
        "colab": {
          "base_uri": "https://localhost:8080/",
          "height": 272
        },
        "id": "_r7Uslx_OGma",
        "outputId": "2243d131-f129-4b89-ad2d-b0b285d99f9a"
      },
      "execution_count": 15,
      "outputs": [
        {
          "output_type": "display_data",
          "data": {
            "image/png": "[encoded data removed]",
            "text/plain": [
              "<Figure size 432x288 with 1 Axes>"
            ]
          },
          "metadata": {}
        }
      ]
    }
  ]
}